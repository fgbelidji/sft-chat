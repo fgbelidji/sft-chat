{
 "cells": [
  {
   "cell_type": "code",
   "execution_count": null,
   "id": "bc987635",
   "metadata": {},
   "outputs": [],
   "source": [
    "!pip install datasets"
   ]
  },
  {
   "cell_type": "code",
   "execution_count": null,
   "id": "307e6ad7",
   "metadata": {},
   "outputs": [],
   "source": [
    "import datasets\n",
    "import pandas as pd\n",
    "from tqdm import tqdm\n",
    "from huggingface_hub import notebook_login"
   ]
  },
  {
   "cell_type": "code",
   "execution_count": null,
   "id": "e45df60d",
   "metadata": {},
   "outputs": [],
   "source": [
    "open_assistant = datasets.load_dataset(\"OpenAssistant/oasst1\")\n",
    "open_assistant = datasets.concatenate_datasets([open_assistant['train'], open_assistant['validation']])"
   ]
  },
  {
   "cell_type": "code",
   "execution_count": null,
   "id": "3a9904d0",
   "metadata": {},
   "outputs": [],
   "source": [
    "df = open_assistant.to_pandas()\n",
    "\n",
    "all_parents = df['parent_id'].unique()\n",
    "all_children = df['message_id'].unique()\n",
    "leaf_ids = [message_id for message_id in tqdm(all_children) if message_id not in all_parents]"
   ]
  },
  {
   "cell_type": "code",
   "execution_count": null,
   "id": "483799d2",
   "metadata": {},
   "outputs": [],
   "source": [
    "print(len(leaf_ids))"
   ]
  },
  {
   "cell_type": "code",
   "execution_count": null,
   "id": "93fd169a",
   "metadata": {},
   "outputs": [],
   "source": [
    "leaf_ids = []\n",
    "for i, row in tqdm(df.iterrows()):\n",
    "    if row['message_id'] not in all_parents:\n",
    "        leaf_ids.append((row['message_id'], row['user_id'], row['created_date'], row['lang']))\n",
    "        \n",
    "print(\"Length:\", len(leaf_ids), \" and Content:\", leaf_ids[1])"
   ]
  },
  {
   "cell_type": "markdown",
   "id": "9aafd16e",
   "metadata": {},
   "source": [
    "Check that the dataset has a tree structure, with root nodes being parents to more conversations"
   ]
  },
  {
   "cell_type": "code",
   "execution_count": null,
   "id": "42882aa5",
   "metadata": {},
   "outputs": [],
   "source": [
    "df['parent_id'].value_counts().value_counts()"
   ]
  },
  {
   "cell_type": "code",
   "execution_count": null,
   "id": "d5a6fc67",
   "metadata": {},
   "outputs": [],
   "source": [
    "df.iloc[:].head(30)"
   ]
  },
  {
   "cell_type": "code",
   "execution_count": null,
   "id": "ff7dc0b0",
   "metadata": {},
   "outputs": [],
   "source": [
    "not_found = []\n",
    "\n",
    "def find_parents(message_id):\n",
    "    rows = df[df['message_id'] == message_id]\n",
    "    if len(rows) == 0:\n",
    "        not_found.append(message_id)\n",
    "        return []\n",
    "    \n",
    "    row = rows.iloc[0]\n",
    "    parent_id = row['parent_id']\n",
    "    content = {'content': row['text'], 'role': ('user' if row['role']=='prompter' else row['role'])}\n",
    "    \n",
    "    if parent_id is None: # stop chain\n",
    "        return [content]\n",
    "    \n",
    "    return find_parents(parent_id) + [content]\n",
    "    \n",
    "dataset = pd.DataFrame([], columns=['conversation_id', 'user_id', 'created_date', 'messages', 'lang'])\n",
    "\n",
    "for leaf_id, user_id, created_date, lang in tqdm(leaf_ids):\n",
    "    dataset.loc[len(dataset)] = leaf_id, user_id, created_date, find_parents(leaf_id), lang"
   ]
  },
  {
   "cell_type": "code",
   "execution_count": null,
   "id": "884273f2",
   "metadata": {},
   "outputs": [],
   "source": [
    "ds = datasets.Dataset.from_pandas(dataset)\n",
    "ds = ds.remove_columns(\"__index_level_0__\")"
   ]
  },
  {
   "cell_type": "code",
   "execution_count": null,
   "id": "9b2534b6",
   "metadata": {
    "scrolled": true
   },
   "outputs": [],
   "source": [
    "notebook_login()\n",
    "ds.push_to_hub(\"A-Roucher/Open_Assistant_Conversation_Chains\")"
   ]
  }
 ],
 "metadata": {
  "kernelspec": {
   "display_name": "Python 3 (ipykernel)",
   "language": "python",
   "name": "python3"
  },
  "language_info": {
   "codemirror_mode": {
    "name": "ipython",
    "version": 3
   },
   "file_extension": ".py",
   "mimetype": "text/x-python",
   "name": "python",
   "nbconvert_exporter": "python",
   "pygments_lexer": "ipython3",
   "version": "3.10.9"
  }
 },
 "nbformat": 4,
 "nbformat_minor": 5
}
